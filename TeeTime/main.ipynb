{
  "cells": [
    {
      "cell_type": "code",
      "execution_count": 5,
      "metadata": {
        "colab": {
          "base_uri": "https://localhost:8080/"
        },
        "id": "owVyQh_I-UV2",
        "outputId": "d87e1e19-b575-437f-b027-978785b0e9da"
      },
      "outputs": [],
      "source": [
        "from selenium import webdriver\n",
        "from selenium.webdriver.common.keys import Keys\n",
        "from selenium.webdriver.chrome.service import Service"
      ]
    },
    {
      "cell_type": "code",
      "execution_count": 6,
      "metadata": {
        "colab": {
          "base_uri": "https://localhost:8080/",
          "height": 691
        },
        "id": "e0C6UqE1D2dJ",
        "outputId": "34d9fa92-6821-4bf0-e471-48966fc6d53f"
      },
      "outputs": [],
      "source": [
        "service = webdriver.ChromeService(executable_path = 'chromedriver')\n",
        "options = webdriver.ChromeOptions()\n",
        "driver = webdriver.Chrome()"
      ]
    },
    {
      "cell_type": "code",
      "execution_count": 7,
      "metadata": {
        "id": "1NASgVLZ99Y3"
      },
      "outputs": [],
      "source": [
        "from selenium import webdriver\n",
        "from selenium.webdriver.chrome.options import Options\n",
        "from selenium.webdriver.common.by import By\n",
        "from selenium.webdriver.common.keys import Keys\n",
        "from selenium.webdriver.support.ui import WebDriverWait, Select\n",
        "from selenium.webdriver.support import expected_conditions as EC\n",
        "from selenium.common.exceptions import NoSuchElementException, TimeoutException, StaleElementReferenceException\n",
        "import logging\n",
        "import time\n",
        "from datetime import datetime, timedelta\n",
        "import pytz"
      ]
    },
    {
      "cell_type": "code",
      "execution_count": 8,
      "metadata": {
        "id": "oZLewLw--p1p"
      },
      "outputs": [],
      "source": [
        "def day_to_weekday_num(day_name):\n",
        "    \"\"\"Converts a day name to its corresponding weekday number.\"\"\"\n",
        "    days = [\"monday\", \"tuesday\", \"wednesday\", \"thursday\", \"friday\", \"saturday\", \"sunday\"]\n",
        "    return days.index(day_name.lower())\n",
        "\n",
        "def get_target_date_xpath(target_day=None, timezone_str=\"America/Chicago\"):\n",
        "    local_timezone = pytz.timezone(timezone_str)\n",
        "    today = datetime.now(local_timezone)\n",
        "\n",
        "    if target_day:\n",
        "        # Convert the desired day to its corresponding weekday number\n",
        "        target_day_num = day_to_weekday_num(target_day)\n",
        "        days_ahead = (target_day_num - today.weekday() + 7) % 7\n",
        "        if days_ahead == 0:\n",
        "            days_ahead = 7  # If today is the desired day, move a week ahead\n",
        "    else:\n",
        "        days_ahead = 7  # Default behavior\n",
        "\n",
        "    target_date = today + timedelta(days=days_ahead)\n",
        "    day = target_date.day\n",
        "    month = target_date.month - 1  # Adjust month for zero-based index in HTML\n",
        "\n",
        "    date_xpath = f\"//td[@data-month='{month}'][a[text()='{day}']]\"\n",
        "    return date_xpath\n",
        "\n",
        "def convert_to_24_hour_format(time_str):\n",
        "    # Converts a time string in the format of 'hh:mm AM/PM' to 24-hour format.\n",
        "\n",
        "    return datetime.strptime(time_str, '%I:%M %p').strftime('%H:%M')\n",
        "\n",
        "\n",
        "def get_multiple_courses():\n",
        "    if datetime.today().weekday() == 6:  # Sunday is represented by 6\n",
        "        return 5\n",
        "    else:\n",
        "        return 1\n"
      ]
    },
    {
      "cell_type": "code",
      "execution_count": 9,
      "metadata": {
        "id": "ad2vMTOP_DD0"
      },
      "outputs": [],
      "source": [
        "# Define your preferences here\n",
        "PREFERENCES = {\n",
        "    'primary_course': 'North',\n",
        "    'secondary_course': 'Northback',\n",
        "    'tertiary_course': 'Original Front to North Front',\n",
        "    'preferred_start_time': '07:30',\n",
        "    'preferred_end_time': '08:29'\n",
        "}\n",
        "\n",
        "def select_timeslot(driver):\n",
        "    start_time = PREFERENCES['preferred_start_time']\n",
        "    end_time = PREFERENCES['preferred_end_time']\n",
        "\n",
        "    while True:\n",
        "        # Check primary preference\n",
        "        slot = find_slot_on_course(driver, PREFERENCES['primary_course'], start_time, end_time)\n",
        "        if slot:\n",
        "            return slot\n",
        "\n",
        "        # Check secondary preference\n",
        "        slot = find_slot_on_course(driver, PREFERENCES['secondary_course'], start_time, end_time)\n",
        "        if slot:\n",
        "            return slot\n",
        "\n",
        "        # Check tertiary preference\n",
        "        slot = find_slot_on_course(driver, PREFERENCES['tertiary_course'], start_time, end_time)\n",
        "        if slot:\n",
        "            return slot\n",
        "\n",
        "        # If none of the preferred courses are found, choose the first available slot\n",
        "        slot = find_first_available_slot(driver, start_time, end_time)\n",
        "        if slot:\n",
        "            return slot\n",
        "\n",
        "        # No suitable slot found within this hour. Increment the time range by one hour.\n",
        "        start_time = increment_hour(start_time)\n",
        "        end_time = increment_hour(end_time)\n",
        "\n",
        "        # Stopping condition: Stop after checking 12:30 to 1:29 (or customize as required)\n",
        "        if start_time == '13:30':\n",
        "            break\n",
        "\n",
        "    return None\n",
        "\n",
        "\n",
        "def increment_hour(time_str):\n",
        "    \"\"\"Given a time string in HH:MM format, increment the hour by 1.\"\"\"\n",
        "    hour, minute = map(int, time_str.split(\":\"))\n",
        "    hour += 1\n",
        "    return f\"{hour:02}:{minute:02}\"\n",
        "\n",
        "def find_slot_on_course(driver, start_time, end_time):\n",
        "    \"\"\"\n",
        "    This function finds the first available slot within the given time range.\n",
        "    \"\"\"\n",
        "    # Your logic here, which chooses the first available time slot within the time range\n",
        "    # on the designated course\n",
        "    pass\n",
        "\n",
        "def find_first_available_slot(driver, start_time, end_time):\n",
        "    \"\"\"\n",
        "    This function finds the first available slot within the given time range, without considering the course.\n",
        "    \"\"\"\n",
        "    # Your logic here, which might be similar to the find_slot_on_course function\n",
        "    # but without filtering by the course name.\n",
        "    pass\n",
        "\n",
        "# ... rest of the functions ...\n"
      ]
    },
    {
      "cell_type": "code",
      "execution_count": 10,
      "metadata": {
        "id": "oezoHOoR_mz1"
      },
      "outputs": [],
      "source": [
        "# This function contains your logic for locating the time slots.\n",
        "# It's separate so you can call it for both preferred and secondary courses.\n",
        "def search_for_time_slot(course_name):\n",
        "    global start_clicking\n",
        "    global time_text\n",
        "\n",
        "    try:\n",
        "        rows = WebDriverWait(driver, 10).until(\n",
        "            EC.presence_of_all_elements_located(\n",
        "                (By.XPATH, f\"//div[contains(@class, 'rwdTr') and div[@class='sN rwdTd' and text()='{course_name}']]\"))\n",
        "        )\n",
        "    except TimeoutException:\n",
        "        print(f\"No rows found for course: {course_name}\")\n",
        "        return False\n",
        "\n",
        "    for row in rows:\n",
        "        try:\n",
        "            # Extract the time slot from the <a> tag or the <div> tag\n",
        "            try:\n",
        "                time_element = row.find_element(By.XPATH, \".//div[@class='sT rwdTd']/a\")\n",
        "            except NoSuchElementException:\n",
        "                time_element = row.find_element(By.XPATH, \".//div[@class='sT rwdTd']/div[@class='time_slot']\")\n",
        "\n",
        "            time_text = convert_to_24_hour_format(time_element.text.strip())\n",
        "\n",
        "            if time_text < current_user.preferred_timeslot:\n",
        "                continue\n",
        "\n",
        "            if multiple_courses > 1:\n",
        "                select_element = row.find_element(By.XPATH, \".//div[@class='sS rwdTd']/select\")\n",
        "                Select(select_element).select_by_value(str(multiple_courses))\n",
        "                WebDriverWait(driver, 10).until(EC.staleness_of(time_element))\n",
        "                return True  # Exit the loop as you've selected the required option and the page might have navigated\n",
        "            elif isinstance(time_element,\n",
        "                            webdriver.remote.webelement.WebElement) and \"teetime_button\" in time_element.get_attribute(\n",
        "                \"class\"):\n",
        "                time_element.click()\n",
        "                return True  # Slot was found and clicked\n",
        "\n",
        "        except NoSuchElementException as e:\n",
        "            print(e)\n",
        "            continue\n",
        "        except StaleElementReferenceException:\n",
        "            # Handle the stale element exception, you can log it or wait and then continue\n",
        "            time.sleep(2)  # Wait for a short period before retrying\n",
        "            continue\n",
        "\n",
        "    return False"
      ]
    },
    {
      "cell_type": "code",
      "execution_count": 11,
      "metadata": {
        "id": "xur3eOgb_TCJ"
      },
      "outputs": [],
      "source": [
        "class User:\n",
        "    def __init__(self, user_name: str, user_password: str, user_alt_attribute: str, preferred_timeslot: str,\n",
        "                 preferred_courses: list):\n",
        "        self.user_name = user_name\n",
        "        self.user_password = user_password  # Dont keep it this way\n",
        "        self.user_alt_attribute = user_alt_attribute\n",
        "        self.preferred_timeslot = preferred_timeslot\n",
        "        self.preferred_courses = preferred_courses"
      ]
    },
    {
      "cell_type": "code",
      "execution_count": 12,
      "metadata": {
        "id": "Yh-lXr21_NKU"
      },
      "outputs": [],
      "source": [
        "# Define ParlowS User class as a test user\n",
        "current_user = User(user_name='PartlowS',\n",
        "                    user_password='xfu*fyb6RBC_cyx8mcg',\n",
        "                    user_alt_attribute='Scott Partlow',\n",
        "                    preferred_timeslot='06:00',\n",
        "                    preferred_courses=['North', 'Original Front to North Front',\n",
        "                                       'Northback'])  # In Order - first gets priority !important"
      ]
    },
    {
      "cell_type": "code",
      "execution_count": 13,
      "metadata": {},
      "outputs": [],
      "source": [
        "multiple_courses = 1\n",
        "\n",
        "# -Optional- select a day to run the script on by typing a day (string) as a parameter for this function\n",
        "date_xpath = get_target_date_xpath()\n",
        "\n",
        "# Set up the driver\n",
        "# chrome_options = Options()\n",
        "# chrome_options.add_argument(\"--headless\")\n",
        "# chrome_options.add_argument('--window-size=1920x1080')\n",
        "# chrome_options.add_argument(\"--no-sandbox\")\n",
        "# chrome_options.add_argument(\"--disable-dev-shm-usage\")\n",
        "# driver = webdriver.Chrome(options=chrome_options)\n",
        "driver = webdriver.Chrome()\n",
        "\n",
        "# Navigate to the login page\n",
        "driver.get('https://www.onioncreekclub.com/user/login')"
      ]
    },
    {
      "cell_type": "code",
      "execution_count": 14,
      "metadata": {},
      "outputs": [],
      "source": [
        "# Find the email and password fields, enter the credentials\n",
        "name_elem = driver.find_element(By.ID, 'edit-name--2')\n",
        "password_elem = driver.find_element(By.ID, 'edit-pass--2')\n",
        "\n",
        "name_elem.send_keys(current_user.user_name)\n",
        "password_elem.send_keys(current_user.user_password)\n",
        "password_elem.send_keys(Keys.RETURN)"
      ]
    },
    {
      "cell_type": "code",
      "execution_count": 15,
      "metadata": {},
      "outputs": [
        {
          "name": "stdout",
          "output_type": "stream",
          "text": [
            "[DEBUG] Original window title: PartlowS | Onion Creek Club\n"
          ]
        }
      ],
      "source": [
        "wait = WebDriverWait(driver, 120)\n",
        "original_window = driver.current_window_handle\n",
        "\n",
        "# Debug: Log the original window title\n",
        "print(f\"[DEBUG] Original window title: {driver.title}\")"
      ]
    },
    {
      "cell_type": "code",
      "execution_count": 16,
      "metadata": {},
      "outputs": [],
      "source": [
        "# Find the button by its text and href pattern and click it\n",
        "button_to_click = wait.until(\n",
        "    EC.presence_of_element_located((By.XPATH,\n",
        "                                    \"//a[contains(@href, '/user/')][contains(@href, '/foretees/login')][contains(\"\n",
        "                                    \"text(), 'Book a Tee Time Now')]\"))\n",
        ")\n",
        "button_to_click.click()"
      ]
    },
    {
      "cell_type": "code",
      "execution_count": 17,
      "metadata": {},
      "outputs": [
        {
          "name": "stdout",
          "output_type": "stream",
          "text": [
            "[DEBUG] After switch window title: Member Identification\n"
          ]
        }
      ],
      "source": [
        "wait.until(EC.number_of_windows_to_be(2))\n",
        "\n",
        "# Get\n",
        "for window_handle in driver.window_handles:\n",
        "    if window_handle != original_window:\n",
        "        driver.switch_to.window(window_handle)\n",
        "\n",
        "# Debug: Log the current window title after the switch\n",
        "print(f\"[DEBUG] After switch window title: {driver.title}\")"
      ]
    },
    {
      "cell_type": "code",
      "execution_count": null,
      "metadata": {},
      "outputs": [],
      "source": [
        "# Switch to the new tab\n",
        "wait.until(EC.title_is(\"Member Identification\"))\n",
        "\n",
        "# Wait for the button with the specified alt attribute and click it\n",
        "button_to_click = wait.until(\n",
        "    EC.presence_of_element_located(\n",
        "        (By.XPATH, f\"//a[@alt='{current_user.user_alt_attribute}'][text()='{current_user.user_alt_attribute}']\"))\n",
        ")\n",
        "button_to_click.click()"
      ]
    },
    {
      "cell_type": "code",
      "execution_count": 18,
      "metadata": {
        "colab": {
          "base_uri": "https://localhost:8080/",
          "height": 725
        },
        "id": "jP_Xwaee_T3P",
        "outputId": "2976569a-2fd3-44e0-d96b-1e14739d1542"
      },
      "outputs": [
        {
          "ename": "NoSuchWindowException",
          "evalue": "Message: no such window: target window already closed\nfrom unknown error: web view not found\n  (Session info: chrome=117.0.5938.92)\nStacktrace:\n0   chromedriver                        0x0000000103529ed8 chromedriver + 5091032\n1   chromedriver                        0x0000000103520c43 chromedriver + 5053507\n2   chromedriver                        0x00000001030bc527 chromedriver + 447783\n3   chromedriver                        0x00000001030902f8 chromedriver + 267000\n4   chromedriver                        0x00000001031380cf chromedriver + 954575\n5   chromedriver                        0x000000010314dcc6 chromedriver + 1043654\n6   chromedriver                        0x0000000103132433 chromedriver + 930867\n7   chromedriver                        0x00000001030fd042 chromedriver + 712770\n8   chromedriver                        0x00000001030fe26e chromedriver + 717422\n9   chromedriver                        0x00000001034eb439 chromedriver + 4834361\n10  chromedriver                        0x00000001034f05dd chromedriver + 4855261\n11  chromedriver                        0x00000001034f7572 chromedriver + 4883826\n12  chromedriver                        0x00000001034f130d chromedriver + 4858637\n13  chromedriver                        0x00000001034c316c chromedriver + 4669804\n14  chromedriver                        0x000000010350fcd8 chromedriver + 4984024\n15  chromedriver                        0x000000010350fe90 chromedriver + 4984464\n16  chromedriver                        0x000000010352087e chromedriver + 5052542\n17  libsystem_pthread.dylib             0x00007ff80e32c4e1 _pthread_start + 125\n18  libsystem_pthread.dylib             0x00007ff80e327f6b thread_start + 15\n",
          "output_type": "error",
          "traceback": [
            "\u001b[0;31m---------------------------------------------------------------------------\u001b[0m",
            "\u001b[0;31mNoSuchWindowException\u001b[0m                     Traceback (most recent call last)",
            "\u001b[1;32m/Users/zacharymays/Desktop/TeeTime/teeTime.ipynb Cell 16\u001b[0m line \u001b[0;36m1\n\u001b[0;32m----> <a href='vscode-notebook-cell:/Users/zacharymays/Desktop/TeeTime/teeTime.ipynb#X13sZmlsZQ%3D%3D?line=0'>1</a>\u001b[0m wait\u001b[39m.\u001b[39;49muntil(EC\u001b[39m.\u001b[39;49mtitle_is(\u001b[39m\"\u001b[39;49m\u001b[39mWelcome to ForeTees\u001b[39;49m\u001b[39m\"\u001b[39;49m))\n\u001b[1;32m      <a href='vscode-notebook-cell:/Users/zacharymays/Desktop/TeeTime/teeTime.ipynb#X13sZmlsZQ%3D%3D?line=2'>3</a>\u001b[0m \u001b[39m# Navigate to the 'Member_select' page\u001b[39;00m\n\u001b[1;32m      <a href='vscode-notebook-cell:/Users/zacharymays/Desktop/TeeTime/teeTime.ipynb#X13sZmlsZQ%3D%3D?line=3'>4</a>\u001b[0m driver\u001b[39m.\u001b[39mget(\u001b[39m'\u001b[39m\u001b[39mhttps://www1.foretees.com/v5/onioncreekclub_golf_m56/Member_select\u001b[39m\u001b[39m'\u001b[39m)\n",
            "File \u001b[0;32m/Library/Frameworks/Python.framework/Versions/3.11/lib/python3.11/site-packages/selenium/webdriver/support/wait.py:86\u001b[0m, in \u001b[0;36mWebDriverWait.until\u001b[0;34m(self, method, message)\u001b[0m\n\u001b[1;32m     84\u001b[0m \u001b[39mwhile\u001b[39;00m \u001b[39mTrue\u001b[39;00m:\n\u001b[1;32m     85\u001b[0m     \u001b[39mtry\u001b[39;00m:\n\u001b[0;32m---> 86\u001b[0m         value \u001b[39m=\u001b[39m method(\u001b[39mself\u001b[39;49m\u001b[39m.\u001b[39;49m_driver)\n\u001b[1;32m     87\u001b[0m         \u001b[39mif\u001b[39;00m value:\n\u001b[1;32m     88\u001b[0m             \u001b[39mreturn\u001b[39;00m value\n",
            "File \u001b[0;32m/Library/Frameworks/Python.framework/Versions/3.11/lib/python3.11/site-packages/selenium/webdriver/support/expected_conditions.py:53\u001b[0m, in \u001b[0;36mtitle_is.<locals>._predicate\u001b[0;34m(driver)\u001b[0m\n\u001b[1;32m     52\u001b[0m \u001b[39mdef\u001b[39;00m \u001b[39m_predicate\u001b[39m(driver):\n\u001b[0;32m---> 53\u001b[0m     \u001b[39mreturn\u001b[39;00m driver\u001b[39m.\u001b[39;49mtitle \u001b[39m==\u001b[39m title\n",
            "File \u001b[0;32m/Library/Frameworks/Python.framework/Versions/3.11/lib/python3.11/site-packages/selenium/webdriver/remote/webdriver.py:364\u001b[0m, in \u001b[0;36mWebDriver.title\u001b[0;34m(self)\u001b[0m\n\u001b[1;32m    355\u001b[0m \u001b[39m@property\u001b[39m\n\u001b[1;32m    356\u001b[0m \u001b[39mdef\u001b[39;00m \u001b[39mtitle\u001b[39m(\u001b[39mself\u001b[39m) \u001b[39m-\u001b[39m\u001b[39m>\u001b[39m \u001b[39mstr\u001b[39m:\n\u001b[1;32m    357\u001b[0m \u001b[39m    \u001b[39m\u001b[39m\"\"\"Returns the title of the current page.\u001b[39;00m\n\u001b[1;32m    358\u001b[0m \n\u001b[1;32m    359\u001b[0m \u001b[39m    :Usage:\u001b[39;00m\n\u001b[0;32m   (...)\u001b[0m\n\u001b[1;32m    362\u001b[0m \u001b[39m            title = driver.title\u001b[39;00m\n\u001b[1;32m    363\u001b[0m \u001b[39m    \"\"\"\u001b[39;00m\n\u001b[0;32m--> 364\u001b[0m     \u001b[39mreturn\u001b[39;00m \u001b[39mself\u001b[39;49m\u001b[39m.\u001b[39;49mexecute(Command\u001b[39m.\u001b[39;49mGET_TITLE)\u001b[39m.\u001b[39mget(\u001b[39m\"\u001b[39m\u001b[39mvalue\u001b[39m\u001b[39m\"\u001b[39m, \u001b[39m\"\u001b[39m\u001b[39m\"\u001b[39m)\n",
            "File \u001b[0;32m/Library/Frameworks/Python.framework/Versions/3.11/lib/python3.11/site-packages/selenium/webdriver/remote/webdriver.py:344\u001b[0m, in \u001b[0;36mWebDriver.execute\u001b[0;34m(self, driver_command, params)\u001b[0m\n\u001b[1;32m    342\u001b[0m response \u001b[39m=\u001b[39m \u001b[39mself\u001b[39m\u001b[39m.\u001b[39mcommand_executor\u001b[39m.\u001b[39mexecute(driver_command, params)\n\u001b[1;32m    343\u001b[0m \u001b[39mif\u001b[39;00m response:\n\u001b[0;32m--> 344\u001b[0m     \u001b[39mself\u001b[39;49m\u001b[39m.\u001b[39;49merror_handler\u001b[39m.\u001b[39;49mcheck_response(response)\n\u001b[1;32m    345\u001b[0m     response[\u001b[39m\"\u001b[39m\u001b[39mvalue\u001b[39m\u001b[39m\"\u001b[39m] \u001b[39m=\u001b[39m \u001b[39mself\u001b[39m\u001b[39m.\u001b[39m_unwrap_value(response\u001b[39m.\u001b[39mget(\u001b[39m\"\u001b[39m\u001b[39mvalue\u001b[39m\u001b[39m\"\u001b[39m, \u001b[39mNone\u001b[39;00m))\n\u001b[1;32m    346\u001b[0m     \u001b[39mreturn\u001b[39;00m response\n",
            "File \u001b[0;32m/Library/Frameworks/Python.framework/Versions/3.11/lib/python3.11/site-packages/selenium/webdriver/remote/errorhandler.py:229\u001b[0m, in \u001b[0;36mErrorHandler.check_response\u001b[0;34m(self, response)\u001b[0m\n\u001b[1;32m    227\u001b[0m         alert_text \u001b[39m=\u001b[39m value[\u001b[39m\"\u001b[39m\u001b[39malert\u001b[39m\u001b[39m\"\u001b[39m]\u001b[39m.\u001b[39mget(\u001b[39m\"\u001b[39m\u001b[39mtext\u001b[39m\u001b[39m\"\u001b[39m)\n\u001b[1;32m    228\u001b[0m     \u001b[39mraise\u001b[39;00m exception_class(message, screen, stacktrace, alert_text)  \u001b[39m# type: ignore[call-arg]  # mypy is not smart enough here\u001b[39;00m\n\u001b[0;32m--> 229\u001b[0m \u001b[39mraise\u001b[39;00m exception_class(message, screen, stacktrace)\n",
            "\u001b[0;31mNoSuchWindowException\u001b[0m: Message: no such window: target window already closed\nfrom unknown error: web view not found\n  (Session info: chrome=117.0.5938.92)\nStacktrace:\n0   chromedriver                        0x0000000103529ed8 chromedriver + 5091032\n1   chromedriver                        0x0000000103520c43 chromedriver + 5053507\n2   chromedriver                        0x00000001030bc527 chromedriver + 447783\n3   chromedriver                        0x00000001030902f8 chromedriver + 267000\n4   chromedriver                        0x00000001031380cf chromedriver + 954575\n5   chromedriver                        0x000000010314dcc6 chromedriver + 1043654\n6   chromedriver                        0x0000000103132433 chromedriver + 930867\n7   chromedriver                        0x00000001030fd042 chromedriver + 712770\n8   chromedriver                        0x00000001030fe26e chromedriver + 717422\n9   chromedriver                        0x00000001034eb439 chromedriver + 4834361\n10  chromedriver                        0x00000001034f05dd chromedriver + 4855261\n11  chromedriver                        0x00000001034f7572 chromedriver + 4883826\n12  chromedriver                        0x00000001034f130d chromedriver + 4858637\n13  chromedriver                        0x00000001034c316c chromedriver + 4669804\n14  chromedriver                        0x000000010350fcd8 chromedriver + 4984024\n15  chromedriver                        0x000000010350fe90 chromedriver + 4984464\n16  chromedriver                        0x000000010352087e chromedriver + 5052542\n17  libsystem_pthread.dylib             0x00007ff80e32c4e1 _pthread_start + 125\n18  libsystem_pthread.dylib             0x00007ff80e327f6b thread_start + 15\n"
          ]
        }
      ],
      "source": [
        "wait.until(EC.title_is(\"Welcome to ForeTees\"))\n",
        "\n",
        "# Navigate to the 'Member_select' page\n",
        "driver.get('https://www1.foretees.com/v5/onioncreekclub_golf_m56/Member_select')\n",
        "\n",
        "# Find the date on the calendar and click it\n",
        "print(date_xpath)\n",
        "day_to_click = WebDriverWait(driver, 10).until(\n",
        "    EC.presence_of_element_located((By.XPATH, date_xpath))\n",
        ")\n",
        "day_to_click.click()\n",
        "\n",
        "slot_found = False\n",
        "start_clicking = False"
      ]
    },
    {
      "cell_type": "code",
      "execution_count": null,
      "metadata": {},
      "outputs": [],
      "source": [
        "selected_course = None\n",
        "\n",
        "for course in current_user.preferred_courses:\n",
        "    if search_for_time_slot(course):\n",
        "        selected_course = course\n",
        "        print(f'Selected course: {selected_course}')\n",
        "        # break\n",
        "    else:  # This block executes if the loop completes without a break\n",
        "        print(\n",
        "            f\"No available slots found in either the '{current_user.preferred_courses[0]}' or '{current_user.preferred_courses[1]}' course rows.\")\n",
        "        logging.warning(\n",
        "            f\"No available slots found in either the '{current_user.preferred_courses[0]}' or '{current_user.preferred_courses[1]}' course rows.\")\n",
        "        input(\"Press Return to exit...\")\n",
        "        exit(0)"
      ]
    },
    {
      "cell_type": "code",
      "execution_count": null,
      "metadata": {},
      "outputs": [],
      "source": [
        "if multiple_courses > 1:\n",
        "    continue_button = WebDriverWait(driver, 10).until(\n",
        "        EC.presence_of_element_located((By.XPATH, \"//button[span[text()='Continue']]\"))\n",
        "    )\n",
        "    continue_button.click()"
      ]
    },
    {
      "cell_type": "code",
      "execution_count": null,
      "metadata": {},
      "outputs": [],
      "source": [
        "button_to_click = WebDriverWait(driver, 10).until(\n",
        "    EC.presence_of_element_located((By.XPATH, \"//a[@class='ftS-playerPrompt standard_button']\"))\n",
        ")"
      ]
    },
    {
      "cell_type": "code",
      "execution_count": null,
      "metadata": {},
      "outputs": [],
      "source": [
        "button_to_click = WebDriverWait(driver, 10).until(\n",
        "    EC.presence_of_element_located((By.XPATH, \"//div[@data-fttab='.ftMs-guestTbd']\"))\n",
        ")"
      ]
    },
    {
      "cell_type": "code",
      "execution_count": null,
      "metadata": {},
      "outputs": [],
      "source": [
        "# Step 1: Locate the button you want to click three times\n",
        "button_to_click = WebDriverWait(driver, 10).until(\n",
        "    EC.presence_of_element_located((By.XPATH, \"//div[contains(@class, 'ftMs-listItem')][span[text()='X']]\"))\n",
        ")\n",
        "\n",
        "print(f'X button found. Attempting to click {((4 * multiple_courses) - 1)} times...')"
      ]
    },
    {
      "cell_type": "code",
      "execution_count": null,
      "metadata": {},
      "outputs": [],
      "source": [
        "# Step 2: Click it three times\n",
        "for _ in range((4 * multiple_courses) - 1):\n",
        "    driver.execute_script(\"arguments[0].click();\", button_to_click)"
      ]
    },
    {
      "cell_type": "code",
      "execution_count": null,
      "metadata": {},
      "outputs": [],
      "source": [
        "# Step 3: Check for the existence of at least three <div class=\"playerType\">X</div>\n",
        "player_types = driver.find_elements(By.XPATH, \"//div[@class='playerType' and text()='X']\")\n",
        "\n",
        "if len(player_types) >= ((4 * multiple_courses) - 1):\n",
        "    # Step 4: If the check passes, locate the submit button and click it\n",
        "    try:\n",
        "        submit_button = WebDriverWait(driver, 10).until(\n",
        "            EC.presence_of_element_located(\n",
        "                (By.XPATH, \"//a[@class='submit_request_button' and text()='Submit Request']\"))\n",
        "        )\n",
        "        print(\n",
        "            f\"Successfully Booked the {time_text} time slot at the {selected_course} course for {current_user.user_alt_attribute}\")\n",
        "        logging.warning(\n",
        "            f\"Successfully Booked the {time_text} time slot at the {selected_course} course for {current_user.user_alt_attribute}\")\n",
        "        input(\"Ready to click Submit button\")\n",
        "        submit_button.click()\n",
        "        exit(0)\n",
        "    except TimeoutException:\n",
        "        print(f\"Could not locate Submit Button for the {time_text} time slot. Exiting...\")\n",
        "        logging.warning(f\"Could not locate Submit Button for the {time_text} time slot.\")\n",
        "        exit(0)\n",
        "    except Exception as e:\n",
        "        print(e)"
      ]
    }
  ],
  "metadata": {
    "colab": {
      "provenance": []
    },
    "kernelspec": {
      "display_name": "Python 3",
      "name": "python3"
    },
    "language_info": {
      "codemirror_mode": {
        "name": "ipython",
        "version": 3
      },
      "file_extension": ".py",
      "mimetype": "text/x-python",
      "name": "python",
      "nbconvert_exporter": "python",
      "pygments_lexer": "ipython3",
      "version": "3.11.4"
    }
  },
  "nbformat": 4,
  "nbformat_minor": 0
}
